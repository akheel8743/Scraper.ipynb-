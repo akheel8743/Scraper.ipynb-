{
  "nbformat": 4,
  "nbformat_minor": 0,
  "metadata": {
    "colab": {
      "provenance": []
    },
    "kernelspec": {
      "name": "python3",
      "display_name": "Python 3"
    },
    "language_info": {
      "name": "python"
    }
  },
  "cells": [
    {
      "cell_type": "code",
      "source": [
        "!pip install requests beautifulsoup4 pandas"
      ],
      "metadata": {
        "colab": {
          "base_uri": "https://localhost:8080/"
        },
        "id": "itUZRdW3EapL",
        "outputId": "4546a4af-4022-4b80-f730-2a88c24d6642"
      },
      "execution_count": 1,
      "outputs": [
        {
          "output_type": "stream",
          "name": "stdout",
          "text": [
            "Requirement already satisfied: requests in /usr/local/lib/python3.11/dist-packages (2.32.3)\n",
            "Requirement already satisfied: beautifulsoup4 in /usr/local/lib/python3.11/dist-packages (4.13.4)\n",
            "Requirement already satisfied: pandas in /usr/local/lib/python3.11/dist-packages (2.2.2)\n",
            "Requirement already satisfied: charset-normalizer<4,>=2 in /usr/local/lib/python3.11/dist-packages (from requests) (3.4.2)\n",
            "Requirement already satisfied: idna<4,>=2.5 in /usr/local/lib/python3.11/dist-packages (from requests) (3.10)\n",
            "Requirement already satisfied: urllib3<3,>=1.21.1 in /usr/local/lib/python3.11/dist-packages (from requests) (2.4.0)\n",
            "Requirement already satisfied: certifi>=2017.4.17 in /usr/local/lib/python3.11/dist-packages (from requests) (2025.4.26)\n",
            "Requirement already satisfied: soupsieve>1.2 in /usr/local/lib/python3.11/dist-packages (from beautifulsoup4) (2.7)\n",
            "Requirement already satisfied: typing-extensions>=4.0.0 in /usr/local/lib/python3.11/dist-packages (from beautifulsoup4) (4.13.2)\n",
            "Requirement already satisfied: numpy>=1.23.2 in /usr/local/lib/python3.11/dist-packages (from pandas) (2.0.2)\n",
            "Requirement already satisfied: python-dateutil>=2.8.2 in /usr/local/lib/python3.11/dist-packages (from pandas) (2.9.0.post0)\n",
            "Requirement already satisfied: pytz>=2020.1 in /usr/local/lib/python3.11/dist-packages (from pandas) (2025.2)\n",
            "Requirement already satisfied: tzdata>=2022.7 in /usr/local/lib/python3.11/dist-packages (from pandas) (2025.2)\n",
            "Requirement already satisfied: six>=1.5 in /usr/local/lib/python3.11/dist-packages (from python-dateutil>=2.8.2->pandas) (1.17.0)\n"
          ]
        }
      ]
    },
    {
      "cell_type": "code",
      "source": [
        "import requests\n",
        "from bs4 import BeautifulSoup\n",
        "import pandas as pd\n",
        "import json\n",
        "import os"
      ],
      "metadata": {
        "id": "y34h9qYhG5YK"
      },
      "execution_count": 2,
      "outputs": []
    },
    {
      "cell_type": "code",
      "source": [
        "base_url = \"https://books.toscrape.com/catalogue/\"\n",
        "start_url = \"https://books.toscrape.com/catalogue/page-1.html\"\n",
        "books = []\n",
        "\n",
        "while start_url:\n",
        "    # These lines should be indented to be part of the while loop\n",
        "    response = requests.get(start_url)\n",
        "    soup = BeautifulSoup(response.text, \"html.parser\")\n",
        "\n",
        "    # The rest of your scraping logic for a single page goes here\n",
        "    for book in soup.select(\"article.product_pod\"):\n",
        "        title = book.h3.a[\"title\"]\n",
        "        price = book.select_one(\".price_color\").text\n",
        "        rel_link = book.h3.a[\"href\"]\n",
        "        image_url = \"https://books.toscrape.com/\" + book.img[\"src\"].replace(\"../\", \"\")\n",
        "\n",
        "        books.append({\n",
        "            \"title\": title,\n",
        "            \"price\": price,\n",
        "            \"image_url\": image_url,\n",
        "            \"detail_page\": base_url + rel_link\n",
        "        })\n",
        "\n",
        "    next_btn = soup.select_one(\"li.next > a\")\n",
        "    if next_btn:\n",
        "        next_page = next_btn[\"href\"]\n",
        "        start_url = \"https://books.toscrape.com/catalogue/\" + next_page\n",
        "    else:\n",
        "        start_url = None # Set start_url to None to exit the loop"
      ],
      "metadata": {
        "id": "9LVjHctZITUp"
      },
      "execution_count": 5,
      "outputs": []
    },
    {
      "cell_type": "code",
      "source": [
        "base_url = \"https://books.toscrape.com/catalogue/\"\n",
        "start_url = \"https://books.toscrape.com/catalogue/page-1.html\"\n",
        "books = []\n",
        "\n",
        "while start_url:\n",
        "    response = requests.get(start_url)\n",
        "    soup = BeautifulSoup(response.text, \"html.parser\")\n",
        "\n",
        "    # The scraping logic for a single page goes here\n",
        "    for book in soup.select(\"article.product_pod\"):\n",
        "        title = book.h3.a[\"title\"]\n",
        "        price = book.select_one(\".price_color\").text\n",
        "        rel_link = book.h3.a[\"href\"]\n",
        "        image_url = \"https://books.toscrape.com/\" + book.img[\"src\"].replace(\"../\", \"\")\n",
        "\n",
        "        books.append({\n",
        "            \"title\": title,\n",
        "            \"price\": price,\n",
        "            \"image_url\": image_url,\n",
        "            \"detail_page\": base_url + rel_link\n",
        "        })\n",
        "\n",
        "    next_btn = soup.select_one(\"li.next > a\")\n",
        "    if next_btn:\n",
        "        next_page = next_btn[\"href\"]\n",
        "        start_url = \"https://books.toscrape.com/catalogue/\" + next_page\n",
        "    else:\n",
        "        start_url = None # Set start_url to None to exit the loop"
      ],
      "metadata": {
        "id": "tF08si6FI7qR"
      },
      "execution_count": 10,
      "outputs": []
    },
    {
      "cell_type": "markdown",
      "source": [
        "#Save data to CSV and JSON"
      ],
      "metadata": {
        "id": "OpOQROlBJIl8"
      }
    },
    {
      "cell_type": "code",
      "source": [
        "df = pd.DataFrame(books)\n",
        "df.to_csv(\"books.csv\", index=False)\n",
        "with open(\"books.json\", \"w\") as f:\n",
        "    # Indent the json.dump line to be inside the 'with' block\n",
        "    json.dump(books, f, indent=2)\n",
        "\n",
        "print(\"Data scraped and saved!\")"
      ],
      "metadata": {
        "colab": {
          "base_uri": "https://localhost:8080/"
        },
        "id": "kQmf_iLyLBpd",
        "outputId": "0f7f80a6-bd07-4a57-8963-983fd8ecdfa0"
      },
      "execution_count": 14,
      "outputs": [
        {
          "output_type": "stream",
          "name": "stdout",
          "text": [
            "Data scraped and saved!\n"
          ]
        }
      ]
    },
    {
      "cell_type": "code",
      "source": [
        "#Create HTML content and save it to a file:\n",
        "\n",
        "html_template = \"\"\"\n",
        "\n",
        "<!DOCTYPE html>\n",
        "<html>\n",
        "<head>\n",
        "<title>Books Store</title>\n",
        "<link rel=\"stylesheet\" href=\"styles.css\">\n",
        "</head>\n",
        "<body>\n",
        "<h1>Books Store</h1>\n",
        "<div class=\"grid\">\n",
        "{}\n",
        "</div>\n",
        "</body>\n",
        "</html>\n",
        "\"\"\"\n",
        "book_cards = \"\"\n",
        "for i in range(10): # You can increase this to all books if needed\n",
        "    # Indent the following lines to be inside the for loop\n",
        "    title = df.iloc[i]['title']\n",
        "    price = df.iloc[i]['price']\n",
        "    image_url = df.iloc[i]['image_url']\n",
        "    book_cards += f\"\"\"\n",
        "    <div>\n",
        "    <img src=\"{image_url}\" width=\"100\">\n",
        "    <p>{title}</p>\n",
        "    <p>{price}</p>\n",
        "    </div>\n",
        "    \"\"\"\n",
        "\n",
        "full_html = html_template.format(book_cards)\n",
        "\n",
        "with open(\"index.html\", \"w\", encoding=\"utf-8\") as f:\n",
        "    f.write(full_html)\n",
        "\n",
        "print(\"index.html generated!\")"
      ],
      "metadata": {
        "colab": {
          "base_uri": "https://localhost:8080/"
        },
        "id": "LSgmRdgwL8Y5",
        "outputId": "7f3097f2-a19d-473c-e09f-b9e9e23e9ad6"
      },
      "execution_count": 18,
      "outputs": [
        {
          "output_type": "stream",
          "name": "stdout",
          "text": [
            "index.html generated!\n"
          ]
        }
      ]
    },
    {
      "cell_type": "code",
      "source": [
        "#Create a CSS file for styling:\n",
        "\n",
        "css_code = \"\"\"\n",
        "body {\n",
        "font-family: Arial;\n",
        "background: #f4f4f4;\n",
        "padding: 20px;\n",
        "}\n",
        ".grid {\n",
        "display: grid;\n",
        "grid-template-columns: repeat(auto-fill, minmax(150px, 1fr));\n",
        "gap: 20px;\n",
        "}\n",
        ".grid div {\n",
        "background: white;\n",
        "padding: 10px;\n",
        "border: 1px solid #ccc;\n",
        "}\n",
        "img {\n",
        "max-width: 100%;\n",
        "}\n",
        "\"\"\"\n",
        "\n",
        "with open(\"styles.css\", \"w\") as f:\n",
        "     f.write(css_code)\n",
        "\n",
        "print(\"styles.css generated!\")"
      ],
      "metadata": {
        "colab": {
          "base_uri": "https://localhost:8080/"
        },
        "id": "9iqoK3EyMEzu",
        "outputId": "6526e7f0-7d16-4ee1-f78e-5749424528f0"
      },
      "execution_count": 20,
      "outputs": [
        {
          "output_type": "stream",
          "name": "stdout",
          "text": [
            "styles.css generated!\n"
          ]
        }
      ]
    }
  ]
}